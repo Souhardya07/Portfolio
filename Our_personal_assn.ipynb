{
  "nbformat": 4,
  "nbformat_minor": 0,
  "metadata": {
    "colab": {
      "provenance": [],
      "authorship_tag": "ABX9TyNLtweD8oP7qrdV4RXWDmIm",
      "include_colab_link": true
    },
    "kernelspec": {
      "name": "python3",
      "display_name": "Python 3"
    },
    "language_info": {
      "name": "python"
    }
  },
  "cells": [
    {
      "cell_type": "markdown",
      "metadata": {
        "id": "view-in-github",
        "colab_type": "text"
      },
      "source": [
        "<a href=\"https://colab.research.google.com/github/Souhardya07/Portfolio/blob/main/Our_personal_assn.ipynb\" target=\"_parent\"><img src=\"https://colab.research.google.com/assets/colab-badge.svg\" alt=\"Open In Colab\"/></a>"
      ]
    },
    {
      "cell_type": "code",
      "source": [
        "pip install -q -U google-generativeai"
      ],
      "metadata": {
        "id": "c31JpxonLK-8"
      },
      "execution_count": 63,
      "outputs": []
    },
    {
      "cell_type": "code",
      "source": [
        "pip install gTTS\n"
      ],
      "metadata": {
        "colab": {
          "base_uri": "https://localhost:8080/"
        },
        "id": "ueNkhQmoeVPw",
        "outputId": "97606017-fda9-4ca4-fe5d-d42dad25fc4e"
      },
      "execution_count": 116,
      "outputs": [
        {
          "output_type": "stream",
          "name": "stdout",
          "text": [
            "Requirement already satisfied: gTTS in /usr/local/lib/python3.10/dist-packages (2.5.0)\n",
            "Requirement already satisfied: requests<3,>=2.27 in /usr/local/lib/python3.10/dist-packages (from gTTS) (2.31.0)\n",
            "Requirement already satisfied: click<8.2,>=7.1 in /usr/local/lib/python3.10/dist-packages (from gTTS) (8.1.7)\n",
            "Requirement already satisfied: charset-normalizer<4,>=2 in /usr/local/lib/python3.10/dist-packages (from requests<3,>=2.27->gTTS) (3.3.2)\n",
            "Requirement already satisfied: idna<4,>=2.5 in /usr/local/lib/python3.10/dist-packages (from requests<3,>=2.27->gTTS) (3.6)\n",
            "Requirement already satisfied: urllib3<3,>=1.21.1 in /usr/local/lib/python3.10/dist-packages (from requests<3,>=2.27->gTTS) (2.0.7)\n",
            "Requirement already satisfied: certifi>=2017.4.17 in /usr/local/lib/python3.10/dist-packages (from requests<3,>=2.27->gTTS) (2023.11.17)\n"
          ]
        }
      ]
    },
    {
      "cell_type": "code",
      "execution_count": 83,
      "metadata": {
        "id": "yGIVBc2F7EWs"
      },
      "outputs": [],
      "source": [
        "def ask_question():\n",
        "  ques = 'Hey'+name+'what do you want?'\n",
        "  ques = input(ques)\n",
        "  return ques"
      ]
    },
    {
      "cell_type": "code",
      "source": [
        "def classify_questions(ques):\n",
        "  goahead_with_web_search = False\n",
        "  dev_list =['Set an alarm','set a reminder','message','call']\n",
        "  per_list =['Who are you?','who created you?']\n",
        "  device= False\n",
        "  for i in dev_list:\n",
        "    if i in ques:\n",
        "      device = True\n",
        "\n",
        "  if device:\n",
        "    print(\" This is related to device : no data found\")\n",
        "\n",
        "  per_question = False\n",
        "\n",
        "  for i in per_list:\n",
        "    if i in ques:\n",
        "      per_question = True\n",
        "  if per_question:\n",
        "    print(\"Hey am a personal assistant created by Souhardya\")\n",
        "\n",
        "  if device:\n",
        "    goahead_with_web_search = False\n",
        "  elif per_question:\n",
        "    goahead_with_web_search = False\n",
        "  else:\n",
        "    goahead_with_web_search = True\n",
        "\n",
        "  return goahead_with_web_search\n",
        "\n",
        ""
      ],
      "metadata": {
        "id": "7sbTwGyU8KYw"
      },
      "execution_count": 84,
      "outputs": []
    },
    {
      "cell_type": "code",
      "source": [
        "classify_questions(\"Who are you?\")"
      ],
      "metadata": {
        "colab": {
          "base_uri": "https://localhost:8080/"
        },
        "id": "QhFTn4eR_6cl",
        "outputId": "68278dd6-337b-47d3-acad-a5d29aaa9f82"
      },
      "execution_count": 69,
      "outputs": [
        {
          "output_type": "stream",
          "name": "stdout",
          "text": [
            "Hey am a personal assistant created by Souhardya\n"
          ]
        },
        {
          "output_type": "execute_result",
          "data": {
            "text/plain": [
              "False"
            ]
          },
          "metadata": {},
          "execution_count": 69
        }
      ]
    },
    {
      "cell_type": "code",
      "source": [
        "# start searching with google gemeni\n",
        "\n"
      ],
      "metadata": {
        "id": "98sWmlwEGg0B"
      },
      "execution_count": 48,
      "outputs": []
    },
    {
      "cell_type": "code",
      "source": [
        "from google.colab import userdata"
      ],
      "metadata": {
        "id": "0tX_pDWIJXuk"
      },
      "execution_count": 70,
      "outputs": []
    },
    {
      "cell_type": "code",
      "source": [
        "GOOGLE_API_KEY=userdata.get ('GOOGLE_API')"
      ],
      "metadata": {
        "id": "3LrJtMbgJsCK"
      },
      "execution_count": 71,
      "outputs": []
    },
    {
      "cell_type": "code",
      "source": [
        "import pathlib\n",
        "import textwrap\n",
        "from gtts import gTTS\n",
        "import google.generativeai as genai\n",
        "\n",
        "from IPython.display import display\n",
        "from IPython.display import Markdown\n",
        "from IPython.display import Audio, display\n",
        "\n",
        "def to_markdown(text):\n",
        "   text = text.replace('•', '  *')\n",
        "   return Markdown(textwrap.indent(text, '> ', predicate=lambda _: True))\n",
        "\n",
        "\n",
        "genai.configure(api_key=GOOGLE_API_KEY)"
      ],
      "metadata": {
        "id": "oTiaUvepK6g3"
      },
      "execution_count": 108,
      "outputs": []
    },
    {
      "cell_type": "code",
      "source": [
        "model = genai.GenerativeModel('gemini-pro')"
      ],
      "metadata": {
        "id": "6kXKVA-bL_hc"
      },
      "execution_count": 109,
      "outputs": []
    },
    {
      "cell_type": "code",
      "source": [
        "response = model.generate_content(\"What is the meaning of life?\")"
      ],
      "metadata": {
        "id": "zybJw_2xLzxx"
      },
      "execution_count": 110,
      "outputs": []
    },
    {
      "cell_type": "code",
      "source": [
        "response.text"
      ],
      "metadata": {
        "id": "-GSfsUOnPtRq"
      },
      "execution_count": null,
      "outputs": []
    },
    {
      "cell_type": "code",
      "source": [
        "to_markdown(response.text)"
      ],
      "metadata": {
        "id": "Z_fTJTBLPz-l"
      },
      "execution_count": null,
      "outputs": []
    },
    {
      "cell_type": "code",
      "source": [
        "def ask_gemini(ques):\n",
        "  modify_prompt = 'Hey give me answer to this question'+ques+'in maximum of 100 words'\n",
        "  response = model.generate_content(ques)\n",
        "  to_markdown(response.text)\n",
        "  return response.text\n"
      ],
      "metadata": {
        "id": "q4ph_CGBQc3x"
      },
      "execution_count": 105,
      "outputs": []
    },
    {
      "cell_type": "code",
      "source": [
        "def speak(answer):\n",
        "  tts = gTTS(answer)\n",
        "  tts.save('audio.mp3')\n",
        "  display(Audio('audio.mp3', autoplay=True))"
      ],
      "metadata": {
        "id": "C6giQS5pfj-q"
      },
      "execution_count": 121,
      "outputs": []
    },
    {
      "cell_type": "code",
      "source": [
        "have_any_more_questions = 'y'\n",
        "name = ''\n",
        "while have_any_more_questions == 'y':\n",
        "  if name == '':\n",
        "     name = input (\"Hey what is your name ? -\")\n",
        "\n",
        "  q = ask_question()\n",
        "\n",
        "  go_ahead = classify_questions(q)\n",
        "  answer = ''\n",
        "\n",
        "  if go_ahead == True:\n",
        "    answer= ask_gemini(q)\n",
        "    speak(answer)\n",
        "    print(answer)\n",
        "\n",
        "  have_any_more_questions=input (\"Do you have any other questions\")"
      ],
      "metadata": {
        "id": "VsT8kd6vRMnQ"
      },
      "execution_count": null,
      "outputs": []
    }
  ]
}